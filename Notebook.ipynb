{
 "cells": [
  {
   "cell_type": "code",
   "execution_count": 2,
   "metadata": {},
   "outputs": [],
   "source": [
    "import pandas as pd\n",
    "import matplotlib.pyplot as plt\n",
    "import seaborn as sns"
   ]
  },
  {
   "cell_type": "code",
   "execution_count": 3,
   "metadata": {},
   "outputs": [
    {
     "name": "stdout",
     "output_type": "stream",
     "text": [
      "  Customer_ID       Nama Pelanggan Jenis Kelamin  Umur       Profesi  \\\n",
      "0    CUST-001         Budi Anggara          Pria    58    Wiraswasta   \n",
      "1    CUST-002     Shirley Ratuwati        Wanita    14       Pelajar   \n",
      "2    CUST-003         Agus Cahyono          Pria    48  Professional   \n",
      "3    CUST-004     Antonius Winarta          Pria    53  Professional   \n",
      "4    CUST-005  Ibu Sri Wahyuni, IR        Wanita    41    Wiraswasta   \n",
      "\n",
      "  Tipe Residen  NilaiBelanjaSetahun  \n",
      "0       Sector              9497927  \n",
      "1      Cluster              2722700  \n",
      "2      Cluster              5286429  \n",
      "3      Cluster              5204498  \n",
      "4      Cluster             10615206  \n",
      "<class 'pandas.core.frame.DataFrame'>\n",
      "RangeIndex: 50 entries, 0 to 49\n",
      "Data columns (total 7 columns):\n",
      " #   Column               Non-Null Count  Dtype \n",
      "---  ------               --------------  ----- \n",
      " 0   Customer_ID          50 non-null     object\n",
      " 1   Nama Pelanggan       50 non-null     object\n",
      " 2   Jenis Kelamin        50 non-null     object\n",
      " 3   Umur                 50 non-null     int64 \n",
      " 4   Profesi              50 non-null     object\n",
      " 5   Tipe Residen         50 non-null     object\n",
      " 6   NilaiBelanjaSetahun  50 non-null     int64 \n",
      "dtypes: int64(2), object(5)\n",
      "memory usage: 2.9+ KB\n",
      "None\n"
     ]
    }
   ],
   "source": [
    "#Panggil dataset\n",
    "df = pd.read_csv('data_customer.txt', sep='\\t')\n",
    "print(df.head())\n",
    "print(df.info())"
   ]
  },
  {
   "cell_type": "code",
   "execution_count": 7,
   "metadata": {},
   "outputs": [],
   "source": [
    "#Eksplorasi data numerik\n",
    "def observasi_num(features):\n",
    "\tfig, axs = plt.subplots(2, 2, figsize=(10, 9))\n",
    "\tfor i, kol in enumerate(features):\n",
    "\t\tsns.boxplot(df[kol], ax = axs[i][0])\n",
    "\t\tsns.distplot(df[kol], ax = axs[i][1])\n",
    "\t\taxs[i][0].set_title('mean = %.2f\\n median = %.2f\\n std = %.2f'%(df[kol].mean(), df[kol].median(), df[kol].std()))\n",
    "\tplt.setp(axs)\n",
    "\tplt.tight_layout()\n",
    "\tplt.show()"
   ]
  },
  {
   "cell_type": "code",
   "execution_count": 6,
   "metadata": {},
   "outputs": [
    {
     "name": "stderr",
     "output_type": "stream",
     "text": [
      "C:\\Users\\user\\anaconda3\\lib\\site-packages\\seaborn\\_decorators.py:36: FutureWarning: Pass the following variable as a keyword arg: x. From version 0.12, the only valid positional argument will be `data`, and passing other arguments without an explicit keyword will result in an error or misinterpretation.\n",
      "  warnings.warn(\n",
      "C:\\Users\\user\\anaconda3\\lib\\site-packages\\seaborn\\distributions.py:2551: FutureWarning: `distplot` is a deprecated function and will be removed in a future version. Please adapt your code to use either `displot` (a figure-level function with similar flexibility) or `histplot` (an axes-level function for histograms).\n",
      "  warnings.warn(msg, FutureWarning)\n",
      "C:\\Users\\user\\anaconda3\\lib\\site-packages\\seaborn\\_decorators.py:36: FutureWarning: Pass the following variable as a keyword arg: x. From version 0.12, the only valid positional argument will be `data`, and passing other arguments without an explicit keyword will result in an error or misinterpretation.\n",
      "  warnings.warn(\n",
      "C:\\Users\\user\\anaconda3\\lib\\site-packages\\seaborn\\distributions.py:2551: FutureWarning: `distplot` is a deprecated function and will be removed in a future version. Please adapt your code to use either `displot` (a figure-level function with similar flexibility) or `histplot` (an axes-level function for histograms).\n",
      "  warnings.warn(msg, FutureWarning)\n"
     ]
    },
    {
     "name": "stdout",
     "output_type": "stream",
     "text": [
      "  adjustable: {'box', 'datalim'}\n",
      "  agg_filter: a filter function, which takes a (m, n, 3) float array and a dpi value, and returns a (m, n, 3) array\n",
      "  alpha: float or None\n",
      "  anchor: 2-tuple of floats or {'C', 'SW', 'S', 'SE', ...}\n",
      "  animated: bool\n",
      "  aspect: {'auto'} or num\n",
      "  autoscale_on: bool\n",
      "  autoscalex_on: bool\n",
      "  autoscaley_on: bool\n",
      "  axes_locator: Callable[[Axes, Renderer], Bbox]\n",
      "  axisbelow: bool or 'line'\n",
      "  box_aspect: None, or a number\n",
      "  clip_box: `.Bbox`\n",
      "  clip_on: bool\n",
      "  clip_path: Patch or (Path, Transform) or None\n",
      "  contains: unknown\n",
      "  facecolor or fc: color\n",
      "  figure: `.Figure`\n",
      "  frame_on: bool\n",
      "  gid: str\n",
      "  in_layout: bool\n",
      "  label: object\n",
      "  navigate: bool\n",
      "  navigate_mode: unknown\n",
      "  path_effects: `.AbstractPathEffect`\n",
      "  picker: None or bool or callable\n",
      "  position: [left, bottom, width, height] or `~matplotlib.transforms.Bbox`\n",
      "  prop_cycle: unknown\n",
      "  rasterization_zorder: float or None\n",
      "  rasterized: bool or None\n",
      "  sketch_params: (scale: float, length: float, randomness: float)\n",
      "  snap: bool or None\n",
      "  subplotspec: unknown\n",
      "  title: str\n",
      "  transform: `.Transform`\n",
      "  url: str\n",
      "  visible: bool\n",
      "  xbound: unknown\n",
      "  xlabel: str\n",
      "  xlim: (bottom: float, top: float)\n",
      "  xmargin: float greater than -0.5\n",
      "  xscale: {\"linear\", \"log\", \"symlog\", \"logit\", ...}\n",
      "  xticklabels: unknown\n",
      "  xticks: unknown\n",
      "  ybound: unknown\n",
      "  ylabel: str\n",
      "  ylim: (bottom: float, top: float)\n",
      "  ymargin: float greater than -0.5\n",
      "  yscale: {\"linear\", \"log\", \"symlog\", \"logit\", ...}\n",
      "  yticklabels: unknown\n",
      "  yticks: unknown\n",
      "  zorder: float\n"
     ]
    },
    {
     "data": {
      "image/png": "[encoded data removed]",
      "text/plain": [
       "<Figure size 720x648 with 4 Axes>"
      ]
     },
     "metadata": {
      "needs_background": "light"
     },
     "output_type": "display_data"
    }
   ],
   "source": [
    "#Memanggil fungsi\n",
    "kolom_numerik = ['Umur', 'NilaiBelanjaSetahun']\n",
    "observasi_num(kolom_numerik)"
   ]
  },
  {
   "cell_type": "code",
   "execution_count": 8,
   "metadata": {},
   "outputs": [
    {
     "name": "stderr",
     "output_type": "stream",
     "text": [
      "C:\\Users\\user\\anaconda3\\lib\\site-packages\\seaborn\\_decorators.py:36: FutureWarning: Pass the following variable as a keyword arg: x. From version 0.12, the only valid positional argument will be `data`, and passing other arguments without an explicit keyword will result in an error or misinterpretation.\n",
      "  warnings.warn(\n",
      "C:\\Users\\user\\anaconda3\\lib\\site-packages\\seaborn\\_decorators.py:36: FutureWarning: Pass the following variable as a keyword arg: x. From version 0.12, the only valid positional argument will be `data`, and passing other arguments without an explicit keyword will result in an error or misinterpretation.\n",
      "  warnings.warn(\n",
      "C:\\Users\\user\\anaconda3\\lib\\site-packages\\seaborn\\_decorators.py:36: FutureWarning: Pass the following variable as a keyword arg: x. From version 0.12, the only valid positional argument will be `data`, and passing other arguments without an explicit keyword will result in an error or misinterpretation.\n",
      "  warnings.warn(\n"
     ]
    },
    {
     "name": "stdout",
     "output_type": "stream",
     "text": [
      "  adjustable: {'box', 'datalim'}\n",
      "  agg_filter: a filter function, which takes a (m, n, 3) float array and a dpi value, and returns a (m, n, 3) array\n",
      "  alpha: float or None\n",
      "  anchor: 2-tuple of floats or {'C', 'SW', 'S', 'SE', ...}\n",
      "  animated: bool\n",
      "  aspect: {'auto'} or num\n",
      "  autoscale_on: bool\n",
      "  autoscalex_on: bool\n",
      "  autoscaley_on: bool\n",
      "  axes_locator: Callable[[Axes, Renderer], Bbox]\n",
      "  axisbelow: bool or 'line'\n",
      "  box_aspect: None, or a number\n",
      "  clip_box: `.Bbox`\n",
      "  clip_on: bool\n",
      "  clip_path: Patch or (Path, Transform) or None\n",
      "  contains: unknown\n",
      "  facecolor or fc: color\n",
      "  figure: `.Figure`\n",
      "  frame_on: bool\n",
      "  gid: str\n",
      "  in_layout: bool\n",
      "  label: object\n",
      "  navigate: bool\n",
      "  navigate_mode: unknown\n",
      "  path_effects: `.AbstractPathEffect`\n",
      "  picker: None or bool or callable\n",
      "  position: [left, bottom, width, height] or `~matplotlib.transforms.Bbox`\n",
      "  prop_cycle: unknown\n",
      "  rasterization_zorder: float or None\n",
      "  rasterized: bool or None\n",
      "  sketch_params: (scale: float, length: float, randomness: float)\n",
      "  snap: bool or None\n",
      "  subplotspec: unknown\n",
      "  title: str\n",
      "  transform: `.Transform`\n",
      "  url: str\n",
      "  visible: bool\n",
      "  xbound: unknown\n",
      "  xlabel: str\n",
      "  xlim: (bottom: float, top: float)\n",
      "  xmargin: float greater than -0.5\n",
      "  xscale: {\"linear\", \"log\", \"symlog\", \"logit\", ...}\n",
      "  xticklabels: unknown\n",
      "  xticks: unknown\n",
      "  ybound: unknown\n",
      "  ylabel: str\n",
      "  ylim: (bottom: float, top: float)\n",
      "  ymargin: float greater than -0.5\n",
      "  yscale: {\"linear\", \"log\", \"symlog\", \"logit\", ...}\n",
      "  yticklabels: unknown\n",
      "  yticks: unknown\n",
      "  zorder: float\n",
      "  adjustable: {'box', 'datalim'}\n",
      "  agg_filter: a filter function, which takes a (m, n, 3) float array and a dpi value, and returns a (m, n, 3) array\n",
      "  alpha: float or None\n",
      "  anchor: 2-tuple of floats or {'C', 'SW', 'S', 'SE', ...}\n",
      "  animated: bool\n",
      "  aspect: {'auto'} or num\n",
      "  autoscale_on: bool\n",
      "  autoscalex_on: bool\n",
      "  autoscaley_on: bool\n",
      "  axes_locator: Callable[[Axes, Renderer], Bbox]\n",
      "  axisbelow: bool or 'line'\n",
      "  box_aspect: None, or a number\n",
      "  clip_box: `.Bbox`\n",
      "  clip_on: bool\n",
      "  clip_path: Patch or (Path, Transform) or None\n",
      "  contains: unknown\n",
      "  facecolor or fc: color\n",
      "  figure: `.Figure`\n",
      "  frame_on: bool\n",
      "  gid: str\n",
      "  in_layout: bool\n",
      "  label: object\n",
      "  navigate: bool\n",
      "  navigate_mode: unknown\n",
      "  path_effects: `.AbstractPathEffect`\n",
      "  picker: None or bool or callable\n",
      "  position: [left, bottom, width, height] or `~matplotlib.transforms.Bbox`\n",
      "  prop_cycle: unknown\n",
      "  rasterization_zorder: float or None\n",
      "  rasterized: bool or None\n",
      "  sketch_params: (scale: float, length: float, randomness: float)\n",
      "  snap: bool or None\n",
      "  subplotspec: unknown\n",
      "  title: str\n",
      "  transform: `.Transform`\n",
      "  url: str\n",
      "  visible: bool\n",
      "  xbound: unknown\n",
      "  xlabel: str\n",
      "  xlim: (bottom: float, top: float)\n",
      "  xmargin: float greater than -0.5\n",
      "  xscale: {\"linear\", \"log\", \"symlog\", \"logit\", ...}\n",
      "  xticklabels: unknown\n",
      "  xticks: unknown\n",
      "  ybound: unknown\n",
      "  ylabel: str\n",
      "  ylim: (bottom: float, top: float)\n",
      "  ymargin: float greater than -0.5\n",
      "  yscale: {\"linear\", \"log\", \"symlog\", \"logit\", ...}\n",
      "  yticklabels: unknown\n",
      "  yticks: unknown\n",
      "  zorder: float\n",
      "  adjustable: {'box', 'datalim'}\n",
      "  agg_filter: a filter function, which takes a (m, n, 3) float array and a dpi value, and returns a (m, n, 3) array\n",
      "  alpha: float or None\n",
      "  anchor: 2-tuple of floats or {'C', 'SW', 'S', 'SE', ...}\n",
      "  animated: bool\n",
      "  aspect: {'auto'} or num\n",
      "  autoscale_on: bool\n",
      "  autoscalex_on: bool\n",
      "  autoscaley_on: bool\n",
      "  axes_locator: Callable[[Axes, Renderer], Bbox]\n",
      "  axisbelow: bool or 'line'\n",
      "  box_aspect: None, or a number\n",
      "  clip_box: `.Bbox`\n",
      "  clip_on: bool\n",
      "  clip_path: Patch or (Path, Transform) or None\n",
      "  contains: unknown\n",
      "  facecolor or fc: color\n",
      "  figure: `.Figure`\n",
      "  frame_on: bool\n",
      "  gid: str\n",
      "  in_layout: bool\n",
      "  label: object\n",
      "  navigate: bool\n",
      "  navigate_mode: unknown\n",
      "  path_effects: `.AbstractPathEffect`\n",
      "  picker: None or bool or callable\n",
      "  position: [left, bottom, width, height] or `~matplotlib.transforms.Bbox`\n",
      "  prop_cycle: unknown\n",
      "  rasterization_zorder: float or None\n",
      "  rasterized: bool or None\n",
      "  sketch_params: (scale: float, length: float, randomness: float)\n",
      "  snap: bool or None\n",
      "  subplotspec: unknown\n",
      "  title: str\n",
      "  transform: `.Transform`\n",
      "  url: str\n",
      "  visible: bool\n",
      "  xbound: unknown\n",
      "  xlabel: str\n",
      "  xlim: (bottom: float, top: float)\n",
      "  xmargin: float greater than -0.5\n",
      "  xscale: {\"linear\", \"log\", \"symlog\", \"logit\", ...}\n",
      "  xticklabels: unknown\n",
      "  xticks: unknown\n",
      "  ybound: unknown\n",
      "  ylabel: str\n",
      "  ylim: (bottom: float, top: float)\n",
      "  ymargin: float greater than -0.5\n",
      "  yscale: {\"linear\", \"log\", \"symlog\", \"logit\", ...}\n",
      "  yticklabels: unknown\n",
      "  yticks: unknown\n",
      "  zorder: float\n"
     ]
    },
    {
     "data": {
      "image/png": "[encoded data removed]",
      "text/plain": [
       "<Figure size 504x720 with 3 Axes>"
      ]
     },
     "metadata": {
      "needs_background": "light"
     },
     "output_type": "display_data"
    }
   ],
   "source": [
    "#Eksplorasi data kategorik\n",
    "kolom_kategorikal = ['Jenis Kelamin','Profesi','Tipe Residen']\n",
    "fig, axs = plt.subplots(3,1,figsize=(7,10))\n",
    "for i, kol in enumerate(kolom_kategorikal):\n",
    "\tsns.countplot(df[kol], order = df[kol].value_counts().index, ax = axs[i])\n",
    "\taxs[i].set_title('\\nCount Plot %s\\n'%(kol), fontsize=15)\n",
    "\n",
    "\tfor p in axs[i].patches:\n",
    "\t\taxs[i].annotate(format(p.get_height(), '.0f'),\n",
    "\t\t\t\t\t\t(p.get_x() + p.get_width() / 2., p.get_height()),\n",
    "\t\t\t\t\t\tha='center',\n",
    "\t\t\t\t\t\tva='center',\n",
    "\t\t\t\t\t\txytext=(0, 10),\n",
    "\t\t\t\t\t\ttextcoords='offset points')\n",
    "\n",
    "\tsns.despine(right=True, top=True, left=True)\n",
    "\taxs[i].axes.yaxis.set_visible(False)\n",
    "\tplt.setp(axs)\n",
    "\tplt.tight_layout()\n",
    "\n",
    "plt.show()"
   ]
  },
  {
   "cell_type": "code",
   "execution_count": 9,
   "metadata": {},
   "outputs": [],
   "source": [
    "from sklearn.preprocessing import StandardScaler"
   ]
  },
  {
   "cell_type": "code",
   "execution_count": 10,
   "metadata": {},
   "outputs": [
    {
     "name": "stdout",
     "output_type": "stream",
     "text": [
      "Statistik Sebelum Standardisasi:\n",
      "       Umur  NilaiBelanjaSetahun\n",
      "count  50.0                 50.0\n",
      "mean   37.5            7069874.8\n",
      "std    14.7            2590619.0\n",
      "min    14.0            2722700.0\n",
      "25%    25.0            5257529.8\n",
      "50%    35.0            5980077.0\n",
      "75%    49.8            9739615.0\n",
      "max    64.0           10884508.0\n"
     ]
    }
   ],
   "source": [
    "#Statistik sebelum standarisasi\n",
    "print('Statistik Sebelum Standardisasi:')\n",
    "print(df[kolom_numerik].describe().round(1))"
   ]
  },
  {
   "cell_type": "code",
   "execution_count": 11,
   "metadata": {},
   "outputs": [],
   "source": [
    "#Standarisasi numerik\n",
    "df_standar = StandardScaler().fit_transform(df[kolom_numerik])"
   ]
  },
  {
   "cell_type": "code",
   "execution_count": 12,
   "metadata": {},
   "outputs": [],
   "source": [
    "#Membuat dataframe\n",
    "df_standar = pd.DataFrame(data=df_standar, index=df.index, columns=df[kolom_numerik].columns)"
   ]
  },
  {
   "cell_type": "code",
   "execution_count": 13,
   "metadata": {},
   "outputs": [
    {
     "name": "stdout",
     "output_type": "stream",
     "text": [
      "\n",
      "Statistik hasil standardisasi:\n",
      "       Umur  NilaiBelanjaSetahun\n",
      "count  50.0                 50.0\n",
      "mean    0.0                 -0.0\n",
      "std     1.0                  1.0\n",
      "min    -2.0                 -2.0\n",
      "25%    -1.0                 -1.0\n",
      "50%    -0.0                 -0.0\n",
      "75%     1.0                  1.0\n",
      "max     2.0                  1.0\n"
     ]
    }
   ],
   "source": [
    "#Statistik setelah standarisasi\n",
    "print('\\nStatistik hasil standardisasi:')\n",
    "print(df_standar.describe().round(0))"
   ]
  },
  {
   "cell_type": "code",
   "execution_count": 14,
   "metadata": {},
   "outputs": [],
   "source": [
    "from sklearn.preprocessing import LabelEncoder"
   ]
  },
  {
   "cell_type": "code",
   "execution_count": 15,
   "metadata": {},
   "outputs": [],
   "source": [
    "#Membuat salinan dataframe\n",
    "df_encode = df[kolom_kategorikal].copy()"
   ]
  },
  {
   "cell_type": "code",
   "execution_count": 16,
   "metadata": {},
   "outputs": [
    {
     "name": "stdout",
     "output_type": "stream",
     "text": [
      "   Jenis Kelamin  Profesi  Tipe Residen\n",
      "0              0        4             1\n",
      "1              1        2             0\n",
      "2              0        3             0\n",
      "3              0        3             0\n",
      "4              1        4             0\n"
     ]
    }
   ],
   "source": [
    "#Menerapkan Label Encoder ke semua kolom kategorik\n",
    "for col in kolom_kategorikal:\n",
    "\tdf_encode[col] = LabelEncoder().fit_transform(df_encode[col])\n",
    "print(df_encode.head())"
   ]
  },
  {
   "cell_type": "code",
   "execution_count": 17,
   "metadata": {},
   "outputs": [
    {
     "name": "stdout",
     "output_type": "stream",
     "text": [
      "   Jenis Kelamin  Profesi  Tipe Residen      Umur  NilaiBelanjaSetahun\n",
      "0              0        4             1  1.411245             0.946763\n",
      "1              1        2             0 -1.617768            -1.695081\n",
      "2              0        3             0  0.722833            -0.695414\n",
      "3              0        3             0  1.067039            -0.727361\n",
      "4              1        4             0  0.240944             1.382421\n"
     ]
    }
   ],
   "source": [
    "#Menggabungkan dataframe\n",
    "df_model = df_encode.merge(df_standar, left_index=True, right_index=True, how='left')\n",
    "print(df_model.head())"
   ]
  },
  {
   "cell_type": "code",
   "execution_count": 19,
   "metadata": {},
   "outputs": [],
   "source": [
    "from kmodes.kprototypes import KPrototypes\n",
    "import matplotlib.pyplot as plt\n",
    "import seaborn as sns"
   ]
  },
  {
   "cell_type": "code",
   "execution_count": 20,
   "metadata": {},
   "outputs": [],
   "source": [
    "#Melakukan Iterasi untuk mendapatkan nilai Cost\n",
    "cost = {}\n",
    "for k in range(2,10):\n",
    "\tkproto = KPrototypes(n_clusters = k,random_state=75)\n",
    "\tkproto.fit_predict(df_model, categorical=[0,1,2])\n",
    "\tcost[k]= kproto.cost_"
   ]
  },
  {
   "cell_type": "code",
   "execution_count": 21,
   "metadata": {},
   "outputs": [
    {
     "data": {
      "image/png": "[encoded data removed]",
      "text/plain": [
       "<Figure size 432x288 with 1 Axes>"
      ]
     },
     "metadata": {
      "needs_background": "light"
     },
     "output_type": "display_data"
    }
   ],
   "source": [
    "#Visualisasi Elbow Plot\n",
    "sns.pointplot(x=list(cost.keys()), y=list(cost.values()))\n",
    "plt.show()"
   ]
  },
  {
   "cell_type": "code",
   "execution_count": 22,
   "metadata": {},
   "outputs": [],
   "source": [
    "#Menyimpan model dengan jumlah cluster 5 berdasarkan Elbow Plot\n",
    "import pickle\n",
    "kproto = KPrototypes(n_clusters=5, random_state=75)\n",
    "kproto = kproto.fit(df_model, categorical=[0,1,2])\n",
    "pickle.dump(kproto, open('best_cluster.pkl', 'wb'))"
   ]
  },
  {
   "cell_type": "code",
   "execution_count": 23,
   "metadata": {},
   "outputs": [
    {
     "name": "stdout",
     "output_type": "stream",
     "text": [
      "segmen_pelanggan: [1 0 2 2 3 4 1 2 4 4 2 2 1 1 3 4 4 2 3 0 3 2 4 3 3 2 3 4 2 2 0 1 0 3 4 3 4\n",
      " 1 4 0 4 3 4 3 4 3 2 1 4 1]\n",
      "\n"
     ]
    }
   ],
   "source": [
    "#Menentukan segmen tiap pelanggan\n",
    "clusters = kproto.predict(df_model, categorical=[0,1,2])\n",
    "print('segmen_pelanggan: {}\\n'.format(clusters))"
   ]
  },
  {
   "cell_type": "code",
   "execution_count": 24,
   "metadata": {},
   "outputs": [
    {
     "name": "stdout",
     "output_type": "stream",
     "text": [
      "  Customer_ID       Nama Pelanggan Jenis Kelamin  Umur       Profesi  \\\n",
      "0    CUST-001         Budi Anggara          Pria    58    Wiraswasta   \n",
      "1    CUST-002     Shirley Ratuwati        Wanita    14       Pelajar   \n",
      "2    CUST-003         Agus Cahyono          Pria    48  Professional   \n",
      "3    CUST-004     Antonius Winarta          Pria    53  Professional   \n",
      "4    CUST-005  Ibu Sri Wahyuni, IR        Wanita    41    Wiraswasta   \n",
      "\n",
      "  Tipe Residen  NilaiBelanjaSetahun  cluster  \n",
      "0       Sector              9497927        1  \n",
      "1      Cluster              2722700        0  \n",
      "2      Cluster              5286429        2  \n",
      "3      Cluster              5204498        2  \n",
      "4      Cluster             10615206        3  \n"
     ]
    }
   ],
   "source": [
    "#Menggabungkan data awal dan segmen pelanggan\n",
    "df_final = df.copy()\n",
    "df_final['cluster'] = clusters\n",
    "print(df_final.head())"
   ]
  },
  {
   "cell_type": "code",
   "execution_count": 25,
   "metadata": {},
   "outputs": [
    {
     "name": "stdout",
     "output_type": "stream",
     "text": [
      "\n",
      "Pelanggan cluster 0\n",
      "\n",
      "   Customer_ID    Nama Pelanggan Jenis Kelamin  Umur    Profesi Tipe Residen  \\\n",
      "1     CUST-002  Shirley Ratuwati        Wanita    14    Pelajar      Cluster   \n",
      "19    CUST-020    Irene Novianto        Wanita    16    Pelajar       Sector   \n",
      "30    CUST-031     Eviana Handry        Wanita    19  Mahasiswa      Cluster   \n",
      "32    CUST-033   Cecilia Kusnadi        Wanita    19  Mahasiswa      Cluster   \n",
      "39    CUST-040    Irene Darmawan        Wanita    14    Pelajar       Sector   \n",
      "\n",
      "    NilaiBelanjaSetahun  cluster  \n",
      "1               2722700        0  \n",
      "19              2896845        0  \n",
      "30              3042773        0  \n",
      "32              3047926        0  \n",
      "39              2861855        0  \n",
      "\n",
      "Pelanggan cluster 1\n",
      "\n",
      "   Customer_ID    Nama Pelanggan Jenis Kelamin  Umur     Profesi Tipe Residen  \\\n",
      "0     CUST-001      Budi Anggara          Pria    58  Wiraswasta       Sector   \n",
      "6     CUST-007     Cahyono, Agus          Pria    64  Wiraswasta       Sector   \n",
      "12    CUST-013      Cahaya Putri        Wanita    64  Wiraswasta      Cluster   \n",
      "13    CUST-014    Mario Setiawan          Pria    60  Wiraswasta      Cluster   \n",
      "31    CUST-032   Chintya Winarni        Wanita    47  Wiraswasta       Sector   \n",
      "37    CUST-038      Agatha Salim        Wanita    46  Wiraswasta       Sector   \n",
      "47    CUST-048  Maria Hutagalung        Wanita    45  Wiraswasta       Sector   \n",
      "49    CUST-050    Lianna Nugraha        Wanita    55  Wiraswasta       Sector   \n",
      "\n",
      "    NilaiBelanjaSetahun  cluster  \n",
      "0               9497927        1  \n",
      "6               9837260        1  \n",
      "12              9333168        1  \n",
      "13              9471615        1  \n",
      "31             10663179        1  \n",
      "37             10477127        1  \n",
      "47             10390732        1  \n",
      "49             10569316        1  \n",
      "\n",
      "Pelanggan cluster 2\n",
      "\n",
      "   Customer_ID     Nama Pelanggan Jenis Kelamin  Umur           Profesi  \\\n",
      "2     CUST-003       Agus Cahyono          Pria    48      Professional   \n",
      "3     CUST-004   Antonius Winarta          Pria    53      Professional   \n",
      "7     CUST-008     Danang Santosa          Pria    52      Professional   \n",
      "10    CUST-011     Maria Suryawan        Wanita    50      Professional   \n",
      "11    CUST-012    Erliana Widjaja        Wanita    49      Professional   \n",
      "17    CUST-018        Nelly Halim        Wanita    63  Ibu Rumah Tangga   \n",
      "21    CUST-022       Novita Purba        Wanita    52      Professional   \n",
      "25    CUST-026  Christine Winarto        Wanita    55      Professional   \n",
      "28    CUST-029       Tia Hartanti        Wanita    56      Professional   \n",
      "29    CUST-030     Rosita Saragih        Wanita    46  Ibu Rumah Tangga   \n",
      "46    CUST-047        Mira Kurnia        Wanita    55  Ibu Rumah Tangga   \n",
      "\n",
      "   Tipe Residen  NilaiBelanjaSetahun  cluster  \n",
      "2       Cluster              5286429        2  \n",
      "3       Cluster              5204498        2  \n",
      "7       Cluster              5223569        2  \n",
      "10       Sector              5987367        2  \n",
      "11       Sector              5941914        2  \n",
      "17      Cluster              5340690        2  \n",
      "21      Cluster              5298157        2  \n",
      "25      Cluster              5269392        2  \n",
      "28      Cluster              5271845        2  \n",
      "29       Sector              5020976        2  \n",
      "46      Cluster              6130724        2  \n",
      "\n",
      "Pelanggan cluster 3\n",
      "\n",
      "   Customer_ID       Nama Pelanggan Jenis Kelamin  Umur     Profesi  \\\n",
      "4     CUST-005  Ibu Sri Wahyuni, IR        Wanita    41  Wiraswasta   \n",
      "14    CUST-015     Shirley Ratuwati        Wanita    20  Wiraswasta   \n",
      "18    CUST-019         Mega Pranoto        Wanita    32  Wiraswasta   \n",
      "20    CUST-021     Lestari Fabianto        Wanita    38  Wiraswasta   \n",
      "23    CUST-024        Putri Ginting        Wanita    39  Wiraswasta   \n",
      "24    CUST-025       Julia Setiawan        Wanita    29  Wiraswasta   \n",
      "26    CUST-027        Grace Mulyati        Wanita    35  Wiraswasta   \n",
      "33    CUST-034       Deasy Arisandi        Wanita    21  Wiraswasta   \n",
      "35    CUST-036       Ni Made Suasti        Wanita    30  Wiraswasta   \n",
      "41    CUST-042         Yuliana Wati        Wanita    26  Wiraswasta   \n",
      "43    CUST-044                 Anna        Wanita    18  Wiraswasta   \n",
      "45    CUST-046         Elfira Surya        Wanita    25  Wiraswasta   \n",
      "\n",
      "   Tipe Residen  NilaiBelanjaSetahun  cluster  \n",
      "4       Cluster             10615206        3  \n",
      "14      Cluster             10365668        3  \n",
      "18      Cluster             10884508        3  \n",
      "20      Cluster              9222070        3  \n",
      "23      Cluster             10259572        3  \n",
      "24       Sector             10721998        3  \n",
      "26      Cluster              9114159        3  \n",
      "33       Sector              9759822        3  \n",
      "35      Cluster              9678994        3  \n",
      "41      Cluster              9880607        3  \n",
      "43      Cluster              9339737        3  \n",
      "45       Sector             10099807        3  \n",
      "\n",
      "Pelanggan cluster 4\n",
      "\n",
      "   Customer_ID         Nama Pelanggan Jenis Kelamin  Umur           Profesi  \\\n",
      "5     CUST-006        Rosalina Kurnia        Wanita    24      Professional   \n",
      "8     CUST-009  Elisabeth Suryadinata        Wanita    29      Professional   \n",
      "9     CUST-010         Mario Setiawan          Pria    33      Professional   \n",
      "15    CUST-016           Bambang Rudi          Pria    35      Professional   \n",
      "16    CUST-017              Yuni Sari        Wanita    32  Ibu Rumah Tangga   \n",
      "22    CUST-023        Denny Amiruddin          Pria    34      Professional   \n",
      "27    CUST-028          Adeline Huang        Wanita    40  Ibu Rumah Tangga   \n",
      "34    CUST-035                Ida Ayu        Wanita    39      Professional   \n",
      "36    CUST-037       Felicia Tandiono        Wanita    25      Professional   \n",
      "38    CUST-039           Gina Hidayat        Wanita    20      Professional   \n",
      "40    CUST-041       Shinta Aritonang        Wanita    24  Ibu Rumah Tangga   \n",
      "42    CUST-043           Yenna Sumadi        Wanita    31      Professional   \n",
      "44    CUST-045         Rismawati Juni        Wanita    22      Professional   \n",
      "48    CUST-049        Josephine Wahab        Wanita    33  Ibu Rumah Tangga   \n",
      "\n",
      "   Tipe Residen  NilaiBelanjaSetahun  cluster  \n",
      "5       Cluster              5215541        4  \n",
      "8        Sector              5993218        4  \n",
      "9       Cluster              5257448        4  \n",
      "15      Cluster              5262521        4  \n",
      "16      Cluster              5677762        4  \n",
      "22      Cluster              5239290        4  \n",
      "27      Cluster              6631680        4  \n",
      "34       Sector              5962575        4  \n",
      "36       Sector              5972787        4  \n",
      "38      Cluster              5257775        4  \n",
      "40      Cluster              6820976        4  \n",
      "42      Cluster              5268410        4  \n",
      "44      Cluster              5211041        4  \n",
      "48       Sector              4992585        4  \n"
     ]
    }
   ],
   "source": [
    "#Menampilkan data pelanggan berdasarkan cluster\n",
    "for i in range (0,5):\n",
    "\tprint('\\nPelanggan cluster {}\\n'.format(i))\n",
    "\tprint(df_final[df_final['cluster']==i])"
   ]
  },
  {
   "cell_type": "code",
   "execution_count": 26,
   "metadata": {},
   "outputs": [
    {
     "data": {
      "image/png": "[encoded data removed]",
      "text/plain": [
       "<Figure size 432x288 with 1 Axes>"
      ]
     },
     "metadata": {
      "needs_background": "light"
     },
     "output_type": "display_data"
    },
    {
     "data": {
      "image/png": "[encoded data removed]",
      "text/plain": [
       "<Figure size 432x288 with 1 Axes>"
      ]
     },
     "metadata": {
      "needs_background": "light"
     },
     "output_type": "display_data"
    }
   ],
   "source": [
    "#Visualisasi box plot hasil clustering\n",
    "for i in kolom_numerik:\n",
    "\tplt.figure(figsize=(6,4))\n",
    "\tax = sns.boxplot(x = 'cluster',y = i, data = df_final)\n",
    "\tplt.title('\\nBox Plot {}\\n'.format(i), fontsize=12)\n",
    "\tplt.show()"
   ]
  },
  {
   "cell_type": "code",
   "execution_count": 27,
   "metadata": {},
   "outputs": [
    {
     "data": {
      "image/png": "[encoded data removed]",
      "text/plain": [
       "<Figure size 432x288 with 1 Axes>"
      ]
     },
     "metadata": {
      "needs_background": "light"
     },
     "output_type": "display_data"
    },
    {
     "data": {
      "image/png": "[encoded data removed]",
      "text/plain": [
       "<Figure size 432x288 with 1 Axes>"
      ]
     },
     "metadata": {
      "needs_background": "light"
     },
     "output_type": "display_data"
    },
    {
     "data": {
      "image/png": "[encoded data removed]",
      "text/plain": [
       "<Figure size 432x288 with 1 Axes>"
      ]
     },
     "metadata": {
      "needs_background": "light"
     },
     "output_type": "display_data"
    }
   ],
   "source": [
    "#Visualisasi count plot hasil clustering\n",
    "for i in kolom_kategorikal:\n",
    "\tplt.figure(figsize=(6, 4))\n",
    "\tax = sns.countplot(data=df_final, x='cluster', hue=i)\n",
    "\tplt.title('\\nCount Plot {}\\n'.format(i), fontsize=12)\n",
    "\tax.legend(loc=\"upper center\")\n",
    "\tfor p in ax.patches:\n",
    "\t\tax.annotate(format(p.get_height(), '.0f'),\n",
    "\t\t\t\t\t(p.get_x() + p.get_width() / 2., p.get_height()),\n",
    "\t\t\t\t\tha='center',\n",
    "\t\t\t\t\tva='center',\n",
    "\t\t\t\t\txytext=(0, 10),\n",
    "\t\t\t\t\ttextcoords='offset points')\n",
    "\n",
    "\tsns.despine(right=True, top=True, left=True)\n",
    "\tax.axes.yaxis.set_visible(False)\n",
    "\tplt.show()"
   ]
  },
  {
   "cell_type": "code",
   "execution_count": 28,
   "metadata": {},
   "outputs": [],
   "source": [
    "#Nama cluster\n",
    "df_final['segmen'] = df_final['cluster'].map({\n",
    "    0: 'Diamond Young Member',\n",
    "    1: 'Diamond Senior Member',\n",
    "    2: 'Silver Member',\n",
    "    3: 'Gold Young Member',\n",
    "    4: 'Gold Senior Member'\n",
    "})"
   ]
  },
  {
   "cell_type": "markdown",
   "metadata": {},
   "source": [
    "Cluster 0: Diamond Young Entrepreneur, isi cluster ini adalah para wiraswasta yang memiliki nilai transaksi rata-rata mendekati 10 juta. Selain itu isi dari cluster ini memiliki umur sekitar 18 - 41 tahun dengan rata-ratanya adalah 29 tahun.\n",
    "\n",
    "Cluster 1: Diamond Senior Entrepreneur, isi cluster ini adalah para wiraswata yang memiliki nilai transaksi rata-rata mendekati 10 juta. Isi dari cluster ini memiliki umur sekitar 45 - 64 tahun dengan rata-ratanya adalah 55 tahun.\n",
    "\n",
    "Cluster 2: Silver Students, isi cluster ini adalah para pelajar dan mahasiswa dengan rata-rata umur mereka adalah 16 tahun dan nilai belanja setahun mendekati 3 juta.\n",
    "\n",
    "Cluster 3: Gold Young Member, isi cluster ini adalah para professional dan ibu rumah tangga yang berusia muda dengan rentang umur sekitar 20 - 40 tahun dan dengan rata-rata 30 tahun dan nilai belanja setahun nya mendekati 6 juta.\n",
    "\n",
    "Cluster 4: Gold Senior Member, isi cluster ini adalah para professional dan ibu rumah tangga yang berusia tua dengan rentang umur 46 - 63 tahun dan dengan rata-rata 53 tahun dan nilai belanja setahun nya mendekati 6 juta."
   ]
  },
  {
   "cell_type": "markdown",
   "metadata": {},
   "source": [
    "## Menambahkan data baru untuk testing"
   ]
  },
  {
   "cell_type": "code",
   "execution_count": 29,
   "metadata": {},
   "outputs": [
    {
     "name": "stdout",
     "output_type": "stream",
     "text": [
      "  Customer_ID Nama Pelanggan Jenis Kelamin  Umur     Profesi Tipe Residen  \\\n",
      "0    CUST-100           Joko          Pria    45  Wiraswasta      Cluster   \n",
      "\n",
      "   NilaiBelanjaSetahun  \n",
      "0              8230000  \n"
     ]
    }
   ],
   "source": [
    "#Contoh data baru\n",
    "data = [{\n",
    "\t'Customer_ID': 'CUST-100',\n",
    "\t'Nama Pelanggan': 'Joko',\n",
    "\t'Jenis Kelamin': 'Pria',\n",
    "\t'Umur': 45,\n",
    "\t'Profesi': 'Wiraswasta',\n",
    "\t'Tipe Residen': 'Cluster',\n",
    "\t'NilaiBelanjaSetahun': 8230000\n",
    "\n",
    "}]\n",
    "\n",
    "new_df = pd.DataFrame(data)\n",
    "print(new_df)"
   ]
  },
  {
   "cell_type": "code",
   "execution_count": 31,
   "metadata": {},
   "outputs": [],
   "source": [
    "#Membuat fungsi data pra pemrosesan\n",
    "def data_preprocess(data):\n",
    "\t# Konversi Kategorikal data\n",
    "\tkolom_kategorikal = ['Jenis Kelamin', 'Profesi', 'Tipe Residen']\n",
    "\n",
    "\tdf_encode = data[kolom_kategorikal].copy()\n",
    "\n",
    "\t## Jenis Kelamin\n",
    "\tdf_encode['Jenis Kelamin'] = df_encode['Jenis Kelamin'].map({\n",
    "\t\t'Pria': 0,\n",
    "\t\t'Wanita': 1\n",
    "\t})\n",
    "\n",
    "\t## Profesi\n",
    "\tdf_encode['Profesi'] = df_encode['Profesi'].map({\n",
    "\t\t'Ibu Rumah Tangga': 0,\n",
    "\t\t'Mahasiswa': 1,\n",
    "\t\t'Pelajar': 2,\n",
    "\t\t'Professional': 3,\n",
    "\t\t'Wiraswasta': 4\n",
    "\t})\n",
    "\n",
    "\t## Tipe Residen\n",
    "\tdf_encode['Tipe Residen'] = df_encode['Tipe Residen'].map({\n",
    "\t\t'Cluster': 0,\n",
    "\t\t'Sector': 1\n",
    "\t})\n",
    "\n",
    "\t# Standardisasi Numerical Data\n",
    "\tkolom_numerik = ['Umur', 'NilaiBelanjaSetahun']\n",
    "\tdf_std = data[kolom_numerik].copy()\n",
    "\n",
    "\t## Standardisasi Kolom Umur\n",
    "\tdf_std['Umur'] = (df_std['Umur'] - 37.5) / 14.7\n",
    "\n",
    "\t## Standardisasi Kolom Nilai Belanja Setahun\n",
    "\tdf_std['NilaiBelanjaSetahun'] = (df_std['NilaiBelanjaSetahun'] - 7069874.8) / 2590619.0\n",
    "\n",
    "\t# Menggabungkan Kategorikal dan numerikal data\n",
    "\tdf_model = df_encode.merge(df_std, left_index=True,\n",
    "\t\t\t\t\t\t\t   right_index=True, how='left')\n",
    "\n",
    "\treturn df_model"
   ]
  },
  {
   "cell_type": "code",
   "execution_count": 34,
   "metadata": {},
   "outputs": [
    {
     "name": "stdout",
     "output_type": "stream",
     "text": [
      "   Jenis Kelamin  Profesi  Tipe Residen      Umur  NilaiBelanjaSetahun\n",
      "0              0        4             0  0.510204             0.447818\n"
     ]
    }
   ],
   "source": [
    "# Menjalankan fungsi\n",
    "new_df_model = data_preprocess(new_df)\n",
    "print(new_df_model)"
   ]
  },
  {
   "cell_type": "code",
   "execution_count": 35,
   "metadata": {},
   "outputs": [],
   "source": [
    "#Memanggil model dan melakukan prediksi\n",
    "def modelling(data):\n",
    "\t# Memanggil Model\n",
    "\tkpoto = pickle.load(open('best_cluster.pkl', 'rb'))\n",
    "\t# Melakukan Prediksi\n",
    "\tclusters = kpoto.predict(data, categorical=[0, 1, 2])\n",
    "\treturn clusters"
   ]
  },
  {
   "cell_type": "code",
   "execution_count": 36,
   "metadata": {},
   "outputs": [
    {
     "name": "stdout",
     "output_type": "stream",
     "text": [
      "[1]\n"
     ]
    }
   ],
   "source": [
    "# Menjalankan Fungsi\n",
    "clusters = modelling(new_df_model)\n",
    "print(clusters)"
   ]
  },
  {
   "cell_type": "code",
   "execution_count": 37,
   "metadata": {},
   "outputs": [],
   "source": [
    "#Menamakan segmen\n",
    "def menamakan_segmen(data_asli, clusters):\n",
    "\t# Menggabungkan cluster dan data asli\n",
    "\tfinal_df = data_asli.copy()\n",
    "\tfinal_df['cluster'] = clusters\n",
    "\t# Menamakan segmen\n",
    "\tfinal_df['segmen'] = final_df['cluster'].map({\n",
    "\t\t0: 'Diamond Young Member',\n",
    "\t\t1: 'Diamond Senior Member',\n",
    "\t\t2: 'Silver Students',\n",
    "\t\t3: 'Gold Young Member',\n",
    "\t\t4: 'Gold Senior Member'\n",
    "\t})\n",
    "\treturn final_df"
   ]
  },
  {
   "cell_type": "code",
   "execution_count": 38,
   "metadata": {},
   "outputs": [
    {
     "name": "stdout",
     "output_type": "stream",
     "text": [
      "  Customer_ID Nama Pelanggan Jenis Kelamin  Umur     Profesi Tipe Residen  \\\n",
      "0    CUST-100           Joko          Pria    45  Wiraswasta      Cluster   \n",
      "\n",
      "   NilaiBelanjaSetahun  cluster                 segmen  \n",
      "0              8230000        1  Diamond Senior Member  \n"
     ]
    }
   ],
   "source": [
    "# Menjalankan Fungsi\n",
    "new_final_df = menamakan_segmen(new_df, clusters)\n",
    "print(new_final_df)"
   ]
  }
 ],
 "metadata": {
  "kernelspec": {
   "display_name": "Python 3",
   "language": "python",
   "name": "python3"
  },
  "language_info": {
   "codemirror_mode": {
    "name": "ipython",
    "version": 3
   },
   "file_extension": ".py",
   "mimetype": "text/x-python",
   "name": "python",
   "nbconvert_exporter": "python",
   "pygments_lexer": "ipython3",
   "version": "3.8.5"
  }
 },
 "nbformat": 4,
 "nbformat_minor": 4
}
